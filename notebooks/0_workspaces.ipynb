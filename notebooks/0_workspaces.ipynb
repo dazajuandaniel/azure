{
 "cells": [
  {
   "cell_type": "markdown",
   "id": "d3fc44dd",
   "metadata": {},
   "source": [
    "# Managing Workspaces in Azure\n",
    "Simple notebook to showcase some of the functions/attributes in the workspace object in the Python SDK.\n",
    "\n",
    "Link to documentation -> [here](https://docs.microsoft.com/en-us/python/api/azureml-core/azureml.core.workspace?view=azure-ml-py)"
   ]
  },
  {
   "cell_type": "markdown",
   "id": "4b0a762d",
   "metadata": {},
   "source": [
    "### Connecting to the workspace"
   ]
  },
  {
   "cell_type": "code",
   "execution_count": 1,
   "id": "2980ae7e",
   "metadata": {},
   "outputs": [
    {
     "name": "stdout",
     "output_type": "stream",
     "text": [
      "Performing interactive authentication. Please follow the instructions on the terminal.\n",
      "To sign in, use a web browser to open the page https://microsoft.com/devicelogin and enter the code Q7R6R8TU9 to authenticate.\n",
      "You have logged in. Now let us find all the subscriptions to which you have access...\n",
      "Interactive authentication successfully completed.\n"
     ]
    }
   ],
   "source": [
    "from azureml.core import Workspace\n",
    "\n",
    "ws = Workspace.from_config(path=\"../\")"
   ]
  },
  {
   "cell_type": "markdown",
   "id": "723acd23",
   "metadata": {},
   "source": [
    "### Exploring Admin Attributes"
   ]
  },
  {
   "cell_type": "code",
   "execution_count": 11,
   "id": "9efdfd9c",
   "metadata": {},
   "outputs": [
    {
     "name": "stdout",
     "output_type": "stream",
     "text": [
      "Subscription ID:  a859c8d5-c4f8-43b2-bc8c-178f5180bb8a\n",
      "Resource Group:  azureMLRG\n",
      "Workspace Name:  azureMLWN\n"
     ]
    }
   ],
   "source": [
    "print(\"Subscription ID: \",ws.subscription_id)\n",
    "print(\"Resource Group: \",ws.resource_group)\n",
    "print(\"Workspace Name: \",ws.name)"
   ]
  },
  {
   "cell_type": "markdown",
   "id": "9045e910",
   "metadata": {},
   "source": [
    "### Exploring Metadata about the Workspace"
   ]
  },
  {
   "cell_type": "code",
   "execution_count": 2,
   "id": "5e523b9f",
   "metadata": {},
   "outputs": [
    {
     "name": "stdout",
     "output_type": "stream",
     "text": [
      "compute-instance-small : ComputeInstance\n",
      "compute-cluster : AmlCompute\n"
     ]
    }
   ],
   "source": [
    "#Compute Targets\n",
    "for compute_name in ws.compute_targets:\n",
    "    compute = ws.compute_targets[compute_name]\n",
    "    print(compute.name, \":\", compute.type)"
   ]
  },
  {
   "cell_type": "code",
   "execution_count": 4,
   "id": "aa6a2316",
   "metadata": {},
   "outputs": [
    {
     "name": "stdout",
     "output_type": "stream",
     "text": [
      "diabetes_portal\n"
     ]
    }
   ],
   "source": [
    "#Datasets\n",
    "for dataset_name in ws.datasets:\n",
    "    print(dataset_name)"
   ]
  },
  {
   "cell_type": "code",
   "execution_count": 5,
   "id": "23954e71",
   "metadata": {},
   "outputs": [
    {
     "name": "stdout",
     "output_type": "stream",
     "text": [
      "desginer-experiment\n"
     ]
    }
   ],
   "source": [
    "#Experiments\n",
    "for exp in ws.experiments:\n",
    "    print(exp)"
   ]
  },
  {
   "cell_type": "markdown",
   "id": "1dab6d15",
   "metadata": {},
   "source": [
    "### Creating a Workspace\n",
    "```python\n",
    "from azureml.core import Workspace\n",
    "ws = Workspace.create(name='myworkspace',\n",
    "                      subscription_id='<azure-subscription-id>',\n",
    "                      resource_group='myresourcegroup',\n",
    "                      create_resource_group=True,\n",
    "                      location='eastus2'\n",
    "                      )\n",
    "```"
   ]
  }
 ],
 "metadata": {
  "kernelspec": {
   "display_name": "Python 3 (ipykernel)",
   "language": "python",
   "name": "python3"
  },
  "language_info": {
   "codemirror_mode": {
    "name": "ipython",
    "version": 3
   },
   "file_extension": ".py",
   "mimetype": "text/x-python",
   "name": "python",
   "nbconvert_exporter": "python",
   "pygments_lexer": "ipython3",
   "version": "3.8.5"
  }
 },
 "nbformat": 4,
 "nbformat_minor": 5
}
